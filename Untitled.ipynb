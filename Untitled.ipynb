{
 "cells": [
  {
   "cell_type": "code",
   "execution_count": 1,
   "id": "07769f44",
   "metadata": {},
   "outputs": [],
   "source": [
    "import csv"
   ]
  },
  {
   "cell_type": "code",
   "execution_count": 2,
   "id": "dc6a3761",
   "metadata": {},
   "outputs": [
    {
     "data": {
      "text/html": [
       "<div>\n",
       "<style scoped>\n",
       "    .dataframe tbody tr th:only-of-type {\n",
       "        vertical-align: middle;\n",
       "    }\n",
       "\n",
       "    .dataframe tbody tr th {\n",
       "        vertical-align: top;\n",
       "    }\n",
       "\n",
       "    .dataframe thead th {\n",
       "        text-align: right;\n",
       "    }\n",
       "</style>\n",
       "<table border=\"1\" class=\"dataframe\">\n",
       "  <thead>\n",
       "    <tr style=\"text-align: right;\">\n",
       "      <th></th>\n",
       "      <th>Symbol</th>\n",
       "      <th>LTP</th>\n",
       "      <th>% Change</th>\n",
       "      <th>High</th>\n",
       "      <th>Low</th>\n",
       "      <th>Open</th>\n",
       "      <th>Qty.</th>\n",
       "      <th>Turnover</th>\n",
       "      <th>link</th>\n",
       "    </tr>\n",
       "    <tr>\n",
       "      <th>#</th>\n",
       "      <th></th>\n",
       "      <th></th>\n",
       "      <th></th>\n",
       "      <th></th>\n",
       "      <th></th>\n",
       "      <th></th>\n",
       "      <th></th>\n",
       "      <th></th>\n",
       "      <th></th>\n",
       "    </tr>\n",
       "  </thead>\n",
       "  <tbody>\n",
       "    <tr>\n",
       "      <th>1</th>\n",
       "      <td>ACLBSL</td>\n",
       "      <td>535.00</td>\n",
       "      <td>0.09</td>\n",
       "      <td>542.00</td>\n",
       "      <td>530.00</td>\n",
       "      <td>540.00</td>\n",
       "      <td>756</td>\n",
       "      <td>402,865.40</td>\n",
       "      <td>merolagani.com/CompanyDetail.aspx?symbol=ACLBSL</td>\n",
       "    </tr>\n",
       "    <tr>\n",
       "      <th>2</th>\n",
       "      <td>ADBL</td>\n",
       "      <td>228.00</td>\n",
       "      <td>0.44</td>\n",
       "      <td>230.00</td>\n",
       "      <td>225.00</td>\n",
       "      <td>227.00</td>\n",
       "      <td>7,186</td>\n",
       "      <td>1,629,098.30</td>\n",
       "      <td>merolagani.com/CompanyDetail.aspx?symbol=ADBL</td>\n",
       "    </tr>\n",
       "    <tr>\n",
       "      <th>3</th>\n",
       "      <td>ADLB</td>\n",
       "      <td>1,187.00</td>\n",
       "      <td>-3.50</td>\n",
       "      <td>1,230.00</td>\n",
       "      <td>1,186.00</td>\n",
       "      <td>1,230.00</td>\n",
       "      <td>242</td>\n",
       "      <td>292,105.60</td>\n",
       "      <td>merolagani.com/CompanyDetail.aspx?symbol=ADLB</td>\n",
       "    </tr>\n",
       "    <tr>\n",
       "      <th>4</th>\n",
       "      <td>AHL</td>\n",
       "      <td>328.00</td>\n",
       "      <td>-1.80</td>\n",
       "      <td>337.00</td>\n",
       "      <td>323.00</td>\n",
       "      <td>327.40</td>\n",
       "      <td>1,090</td>\n",
       "      <td>358,092.00</td>\n",
       "      <td>merolagani.com/CompanyDetail.aspx?symbol=AHL</td>\n",
       "    </tr>\n",
       "    <tr>\n",
       "      <th>5</th>\n",
       "      <td>AHPC</td>\n",
       "      <td>274.00</td>\n",
       "      <td>1.52</td>\n",
       "      <td>280.00</td>\n",
       "      <td>265.00</td>\n",
       "      <td>266.00</td>\n",
       "      <td>36,623</td>\n",
       "      <td>9,994,860.20</td>\n",
       "      <td>merolagani.com/CompanyDetail.aspx?symbol=AHPC</td>\n",
       "    </tr>\n",
       "    <tr>\n",
       "      <th>...</th>\n",
       "      <td>...</td>\n",
       "      <td>...</td>\n",
       "      <td>...</td>\n",
       "      <td>...</td>\n",
       "      <td>...</td>\n",
       "      <td>...</td>\n",
       "      <td>...</td>\n",
       "      <td>...</td>\n",
       "      <td>...</td>\n",
       "    </tr>\n",
       "    <tr>\n",
       "      <th>96</th>\n",
       "      <td>LBBL</td>\n",
       "      <td>329.30</td>\n",
       "      <td>1.95</td>\n",
       "      <td>329.30</td>\n",
       "      <td>316.70</td>\n",
       "      <td>316.70</td>\n",
       "      <td>6,948</td>\n",
       "      <td>2,271,789.20</td>\n",
       "      <td>merolagani.com/CompanyDetail.aspx?symbol=LBBL</td>\n",
       "    </tr>\n",
       "    <tr>\n",
       "      <th>97</th>\n",
       "      <td>LBL</td>\n",
       "      <td>176.00</td>\n",
       "      <td>1.03</td>\n",
       "      <td>179.00</td>\n",
       "      <td>173.00</td>\n",
       "      <td>173.70</td>\n",
       "      <td>86,993</td>\n",
       "      <td>15,092,439.10</td>\n",
       "      <td>merolagani.com/CompanyDetail.aspx?symbol=LBL</td>\n",
       "    </tr>\n",
       "    <tr>\n",
       "      <th>98</th>\n",
       "      <td>LBLD88</td>\n",
       "      <td>776.70</td>\n",
       "      <td>2.00</td>\n",
       "      <td>776.70</td>\n",
       "      <td>776.70</td>\n",
       "      <td>776.70</td>\n",
       "      <td>10</td>\n",
       "      <td>7,767.00</td>\n",
       "      <td>merolagani.com/CompanyDetail.aspx?symbol=LBLD88</td>\n",
       "    </tr>\n",
       "    <tr>\n",
       "      <th>99</th>\n",
       "      <td>LEC</td>\n",
       "      <td>245.00</td>\n",
       "      <td>0.20</td>\n",
       "      <td>246.00</td>\n",
       "      <td>234.40</td>\n",
       "      <td>239.70</td>\n",
       "      <td>1,407</td>\n",
       "      <td>335,027.00</td>\n",
       "      <td>merolagani.com/CompanyDetail.aspx?symbol=LEC</td>\n",
       "    </tr>\n",
       "    <tr>\n",
       "      <th>100</th>\n",
       "      <td>LICN</td>\n",
       "      <td>1,264.10</td>\n",
       "      <td>0.10</td>\n",
       "      <td>1,264.70</td>\n",
       "      <td>1,239.00</td>\n",
       "      <td>1,240.20</td>\n",
       "      <td>7,174</td>\n",
       "      <td>8,972,493.00</td>\n",
       "      <td>merolagani.com/CompanyDetail.aspx?symbol=LICN</td>\n",
       "    </tr>\n",
       "  </tbody>\n",
       "</table>\n",
       "<p>100 rows × 9 columns</p>\n",
       "</div>"
      ],
      "text/plain": [
       "     Symbol       LTP  % Change      High       Low      Open    Qty.  \\\n",
       "#                                                                       \n",
       "1    ACLBSL    535.00      0.09    542.00    530.00    540.00     756   \n",
       "2      ADBL    228.00      0.44    230.00    225.00    227.00   7,186   \n",
       "3      ADLB  1,187.00     -3.50  1,230.00  1,186.00  1,230.00     242   \n",
       "4       AHL    328.00     -1.80    337.00    323.00    327.40   1,090   \n",
       "5      AHPC    274.00      1.52    280.00    265.00    266.00  36,623   \n",
       "..      ...       ...       ...       ...       ...       ...     ...   \n",
       "96     LBBL    329.30      1.95    329.30    316.70    316.70   6,948   \n",
       "97      LBL    176.00      1.03    179.00    173.00    173.70  86,993   \n",
       "98   LBLD88    776.70      2.00    776.70    776.70    776.70      10   \n",
       "99      LEC    245.00      0.20    246.00    234.40    239.70   1,407   \n",
       "100    LICN  1,264.10      0.10  1,264.70  1,239.00  1,240.20   7,174   \n",
       "\n",
       "          Turnover                                             link  \n",
       "#                                                                    \n",
       "1       402,865.40  merolagani.com/CompanyDetail.aspx?symbol=ACLBSL  \n",
       "2     1,629,098.30    merolagani.com/CompanyDetail.aspx?symbol=ADBL  \n",
       "3       292,105.60    merolagani.com/CompanyDetail.aspx?symbol=ADLB  \n",
       "4       358,092.00     merolagani.com/CompanyDetail.aspx?symbol=AHL  \n",
       "5     9,994,860.20    merolagani.com/CompanyDetail.aspx?symbol=AHPC  \n",
       "..             ...                                              ...  \n",
       "96    2,271,789.20    merolagani.com/CompanyDetail.aspx?symbol=LBBL  \n",
       "97   15,092,439.10     merolagani.com/CompanyDetail.aspx?symbol=LBL  \n",
       "98        7,767.00  merolagani.com/CompanyDetail.aspx?symbol=LBLD88  \n",
       "99      335,027.00     merolagani.com/CompanyDetail.aspx?symbol=LEC  \n",
       "100   8,972,493.00    merolagani.com/CompanyDetail.aspx?symbol=LICN  \n",
       "\n",
       "[100 rows x 9 columns]"
      ]
     },
     "execution_count": 2,
     "metadata": {},
     "output_type": "execute_result"
    }
   ],
   "source": [
    "import pandas as pd\n",
    "df = pd.read_csv('merolagani_scrape.csv', encoding='latin1', index_col=\"#\")\n",
    "df"
   ]
  },
  {
   "cell_type": "code",
   "execution_count": 26,
   "id": "e0aad924",
   "metadata": {},
   "outputs": [],
   "source": [
    "company = list(df['Symbol'])\n",
    "# Visualizing 100 companies in a bar chart resulted in compact figure so showing data of only 10 companies\n",
    "open_price = list(map(lambda x: float(x.replace(',', '')), list(df['Open'])[:10]))\n",
    "low_price = list(map(lambda x: float(x.replace(',', '')), list(df['Low'])[:10]))\n",
    "high_price = list(map(lambda x: float(x.replace(',', '')), list(df['High'])[:10]))"
   ]
  },
  {
   "cell_type": "code",
   "execution_count": 27,
   "id": "9ebc28f5",
   "metadata": {},
   "outputs": [
    {
     "data": {
      "application/vnd.plotly.v1+json": {
       "config": {
        "plotlyServerURL": "https://plot.ly"
       },
       "data": [
        {
         "name": "Open",
         "type": "bar",
         "x": [
          "ACLBSL",
          "ADBL",
          "ADLB",
          "AHL",
          "AHPC",
          "AIL",
          "AKJCL",
          "AKPL",
          "ALBSL",
          "ALICL",
          "ANLB",
          "API",
          "AVYAN",
          "BARUN",
          "BBC",
          "BFC",
          "BHDC",
          "BHL",
          "BHPL",
          "BNHC",
          "BNT",
          "BOKD86",
          "BPCL",
          "BPW",
          "CBBL",
          "CBLD88",
          "CCBD88",
          "CFCL",
          "CGH",
          "CHCL",
          "CHDC",
          "CHL",
          "CIT",
          "CLBSL",
          "CMF1",
          "CMF2",
          "CORBL",
          "CZBIL",
          "DDBL",
          "DHPL",
          "DLBS",
          "DORDI",
          "EBL",
          "EBLD86",
          "EDBL",
          "EHPL",
          "ENL",
          "FMDBL",
          "FOWAD",
          "GBBD85",
          "GBBL",
          "GBD80/81",
          "GBIME",
          "GBIMEP",
          "GBLBS",
          "GFCL",
          "GHL",
          "GIBF1",
          "GILB",
          "GLBSL",
          "GLH",
          "GMFBS",
          "GMFIL",
          "GRDBL",
          "GUFL",
          "GVL",
          "HBL",
          "HDHPC",
          "HDL",
          "HEI",
          "HHL",
          "HIDCL",
          "HIDCLP",
          "HPPL",
          "HURJA",
          "ICFC",
          "ILBS",
          "JALPA",
          "JBBL",
          "JBLB",
          "JFL",
          "JOSHI",
          "JSLBB",
          "KBL",
          "KBLPO",
          "KDBY",
          "KDL",
          "KEF",
          "KKHC",
          "KLBS",
          "KLBSL",
          "KMCDB",
          "KPCL",
          "KRBL",
          "KSBBL",
          "LBBL",
          "LBL",
          "LBLD88",
          "LEC",
          "LICN"
         ],
         "y": [
          540,
          227,
          1230,
          327.4,
          266,
          400,
          196.5,
          356,
          670,
          521
         ]
        },
        {
         "name": "Low",
         "type": "bar",
         "x": [
          "ACLBSL",
          "ADBL",
          "ADLB",
          "AHL",
          "AHPC",
          "AIL",
          "AKJCL",
          "AKPL",
          "ALBSL",
          "ALICL",
          "ANLB",
          "API",
          "AVYAN",
          "BARUN",
          "BBC",
          "BFC",
          "BHDC",
          "BHL",
          "BHPL",
          "BNHC",
          "BNT",
          "BOKD86",
          "BPCL",
          "BPW",
          "CBBL",
          "CBLD88",
          "CCBD88",
          "CFCL",
          "CGH",
          "CHCL",
          "CHDC",
          "CHL",
          "CIT",
          "CLBSL",
          "CMF1",
          "CMF2",
          "CORBL",
          "CZBIL",
          "DDBL",
          "DHPL",
          "DLBS",
          "DORDI",
          "EBL",
          "EBLD86",
          "EDBL",
          "EHPL",
          "ENL",
          "FMDBL",
          "FOWAD",
          "GBBD85",
          "GBBL",
          "GBD80/81",
          "GBIME",
          "GBIMEP",
          "GBLBS",
          "GFCL",
          "GHL",
          "GIBF1",
          "GILB",
          "GLBSL",
          "GLH",
          "GMFBS",
          "GMFIL",
          "GRDBL",
          "GUFL",
          "GVL",
          "HBL",
          "HDHPC",
          "HDL",
          "HEI",
          "HHL",
          "HIDCL",
          "HIDCLP",
          "HPPL",
          "HURJA",
          "ICFC",
          "ILBS",
          "JALPA",
          "JBBL",
          "JBLB",
          "JFL",
          "JOSHI",
          "JSLBB",
          "KBL",
          "KBLPO",
          "KDBY",
          "KDL",
          "KEF",
          "KKHC",
          "KLBS",
          "KLBSL",
          "KMCDB",
          "KPCL",
          "KRBL",
          "KSBBL",
          "LBBL",
          "LBL",
          "LBLD88",
          "LEC",
          "LICN"
         ],
         "y": [
          530,
          225,
          1186,
          323,
          265,
          397,
          193,
          344.2,
          657,
          517.5
         ]
        },
        {
         "name": "High",
         "type": "bar",
         "x": [
          "ACLBSL",
          "ADBL",
          "ADLB",
          "AHL",
          "AHPC",
          "AIL",
          "AKJCL",
          "AKPL",
          "ALBSL",
          "ALICL",
          "ANLB",
          "API",
          "AVYAN",
          "BARUN",
          "BBC",
          "BFC",
          "BHDC",
          "BHL",
          "BHPL",
          "BNHC",
          "BNT",
          "BOKD86",
          "BPCL",
          "BPW",
          "CBBL",
          "CBLD88",
          "CCBD88",
          "CFCL",
          "CGH",
          "CHCL",
          "CHDC",
          "CHL",
          "CIT",
          "CLBSL",
          "CMF1",
          "CMF2",
          "CORBL",
          "CZBIL",
          "DDBL",
          "DHPL",
          "DLBS",
          "DORDI",
          "EBL",
          "EBLD86",
          "EDBL",
          "EHPL",
          "ENL",
          "FMDBL",
          "FOWAD",
          "GBBD85",
          "GBBL",
          "GBD80/81",
          "GBIME",
          "GBIMEP",
          "GBLBS",
          "GFCL",
          "GHL",
          "GIBF1",
          "GILB",
          "GLBSL",
          "GLH",
          "GMFBS",
          "GMFIL",
          "GRDBL",
          "GUFL",
          "GVL",
          "HBL",
          "HDHPC",
          "HDL",
          "HEI",
          "HHL",
          "HIDCL",
          "HIDCLP",
          "HPPL",
          "HURJA",
          "ICFC",
          "ILBS",
          "JALPA",
          "JBBL",
          "JBLB",
          "JFL",
          "JOSHI",
          "JSLBB",
          "KBL",
          "KBLPO",
          "KDBY",
          "KDL",
          "KEF",
          "KKHC",
          "KLBS",
          "KLBSL",
          "KMCDB",
          "KPCL",
          "KRBL",
          "KSBBL",
          "LBBL",
          "LBL",
          "LBLD88",
          "LEC",
          "LICN"
         ],
         "y": [
          542,
          230,
          1230,
          337,
          280,
          405,
          202,
          356,
          670,
          528
         ]
        }
       ],
       "layout": {
        "barmode": "group",
        "template": {
         "data": {
          "bar": [
           {
            "error_x": {
             "color": "#2a3f5f"
            },
            "error_y": {
             "color": "#2a3f5f"
            },
            "marker": {
             "line": {
              "color": "#E5ECF6",
              "width": 0.5
             },
             "pattern": {
              "fillmode": "overlay",
              "size": 10,
              "solidity": 0.2
             }
            },
            "type": "bar"
           }
          ],
          "barpolar": [
           {
            "marker": {
             "line": {
              "color": "#E5ECF6",
              "width": 0.5
             },
             "pattern": {
              "fillmode": "overlay",
              "size": 10,
              "solidity": 0.2
             }
            },
            "type": "barpolar"
           }
          ],
          "carpet": [
           {
            "aaxis": {
             "endlinecolor": "#2a3f5f",
             "gridcolor": "white",
             "linecolor": "white",
             "minorgridcolor": "white",
             "startlinecolor": "#2a3f5f"
            },
            "baxis": {
             "endlinecolor": "#2a3f5f",
             "gridcolor": "white",
             "linecolor": "white",
             "minorgridcolor": "white",
             "startlinecolor": "#2a3f5f"
            },
            "type": "carpet"
           }
          ],
          "choropleth": [
           {
            "colorbar": {
             "outlinewidth": 0,
             "ticks": ""
            },
            "type": "choropleth"
           }
          ],
          "contour": [
           {
            "colorbar": {
             "outlinewidth": 0,
             "ticks": ""
            },
            "colorscale": [
             [
              0,
              "#0d0887"
             ],
             [
              0.1111111111111111,
              "#46039f"
             ],
             [
              0.2222222222222222,
              "#7201a8"
             ],
             [
              0.3333333333333333,
              "#9c179e"
             ],
             [
              0.4444444444444444,
              "#bd3786"
             ],
             [
              0.5555555555555556,
              "#d8576b"
             ],
             [
              0.6666666666666666,
              "#ed7953"
             ],
             [
              0.7777777777777778,
              "#fb9f3a"
             ],
             [
              0.8888888888888888,
              "#fdca26"
             ],
             [
              1,
              "#f0f921"
             ]
            ],
            "type": "contour"
           }
          ],
          "contourcarpet": [
           {
            "colorbar": {
             "outlinewidth": 0,
             "ticks": ""
            },
            "type": "contourcarpet"
           }
          ],
          "heatmap": [
           {
            "colorbar": {
             "outlinewidth": 0,
             "ticks": ""
            },
            "colorscale": [
             [
              0,
              "#0d0887"
             ],
             [
              0.1111111111111111,
              "#46039f"
             ],
             [
              0.2222222222222222,
              "#7201a8"
             ],
             [
              0.3333333333333333,
              "#9c179e"
             ],
             [
              0.4444444444444444,
              "#bd3786"
             ],
             [
              0.5555555555555556,
              "#d8576b"
             ],
             [
              0.6666666666666666,
              "#ed7953"
             ],
             [
              0.7777777777777778,
              "#fb9f3a"
             ],
             [
              0.8888888888888888,
              "#fdca26"
             ],
             [
              1,
              "#f0f921"
             ]
            ],
            "type": "heatmap"
           }
          ],
          "heatmapgl": [
           {
            "colorbar": {
             "outlinewidth": 0,
             "ticks": ""
            },
            "colorscale": [
             [
              0,
              "#0d0887"
             ],
             [
              0.1111111111111111,
              "#46039f"
             ],
             [
              0.2222222222222222,
              "#7201a8"
             ],
             [
              0.3333333333333333,
              "#9c179e"
             ],
             [
              0.4444444444444444,
              "#bd3786"
             ],
             [
              0.5555555555555556,
              "#d8576b"
             ],
             [
              0.6666666666666666,
              "#ed7953"
             ],
             [
              0.7777777777777778,
              "#fb9f3a"
             ],
             [
              0.8888888888888888,
              "#fdca26"
             ],
             [
              1,
              "#f0f921"
             ]
            ],
            "type": "heatmapgl"
           }
          ],
          "histogram": [
           {
            "marker": {
             "pattern": {
              "fillmode": "overlay",
              "size": 10,
              "solidity": 0.2
             }
            },
            "type": "histogram"
           }
          ],
          "histogram2d": [
           {
            "colorbar": {
             "outlinewidth": 0,
             "ticks": ""
            },
            "colorscale": [
             [
              0,
              "#0d0887"
             ],
             [
              0.1111111111111111,
              "#46039f"
             ],
             [
              0.2222222222222222,
              "#7201a8"
             ],
             [
              0.3333333333333333,
              "#9c179e"
             ],
             [
              0.4444444444444444,
              "#bd3786"
             ],
             [
              0.5555555555555556,
              "#d8576b"
             ],
             [
              0.6666666666666666,
              "#ed7953"
             ],
             [
              0.7777777777777778,
              "#fb9f3a"
             ],
             [
              0.8888888888888888,
              "#fdca26"
             ],
             [
              1,
              "#f0f921"
             ]
            ],
            "type": "histogram2d"
           }
          ],
          "histogram2dcontour": [
           {
            "colorbar": {
             "outlinewidth": 0,
             "ticks": ""
            },
            "colorscale": [
             [
              0,
              "#0d0887"
             ],
             [
              0.1111111111111111,
              "#46039f"
             ],
             [
              0.2222222222222222,
              "#7201a8"
             ],
             [
              0.3333333333333333,
              "#9c179e"
             ],
             [
              0.4444444444444444,
              "#bd3786"
             ],
             [
              0.5555555555555556,
              "#d8576b"
             ],
             [
              0.6666666666666666,
              "#ed7953"
             ],
             [
              0.7777777777777778,
              "#fb9f3a"
             ],
             [
              0.8888888888888888,
              "#fdca26"
             ],
             [
              1,
              "#f0f921"
             ]
            ],
            "type": "histogram2dcontour"
           }
          ],
          "mesh3d": [
           {
            "colorbar": {
             "outlinewidth": 0,
             "ticks": ""
            },
            "type": "mesh3d"
           }
          ],
          "parcoords": [
           {
            "line": {
             "colorbar": {
              "outlinewidth": 0,
              "ticks": ""
             }
            },
            "type": "parcoords"
           }
          ],
          "pie": [
           {
            "automargin": true,
            "type": "pie"
           }
          ],
          "scatter": [
           {
            "fillpattern": {
             "fillmode": "overlay",
             "size": 10,
             "solidity": 0.2
            },
            "type": "scatter"
           }
          ],
          "scatter3d": [
           {
            "line": {
             "colorbar": {
              "outlinewidth": 0,
              "ticks": ""
             }
            },
            "marker": {
             "colorbar": {
              "outlinewidth": 0,
              "ticks": ""
             }
            },
            "type": "scatter3d"
           }
          ],
          "scattercarpet": [
           {
            "marker": {
             "colorbar": {
              "outlinewidth": 0,
              "ticks": ""
             }
            },
            "type": "scattercarpet"
           }
          ],
          "scattergeo": [
           {
            "marker": {
             "colorbar": {
              "outlinewidth": 0,
              "ticks": ""
             }
            },
            "type": "scattergeo"
           }
          ],
          "scattergl": [
           {
            "marker": {
             "colorbar": {
              "outlinewidth": 0,
              "ticks": ""
             }
            },
            "type": "scattergl"
           }
          ],
          "scattermapbox": [
           {
            "marker": {
             "colorbar": {
              "outlinewidth": 0,
              "ticks": ""
             }
            },
            "type": "scattermapbox"
           }
          ],
          "scatterpolar": [
           {
            "marker": {
             "colorbar": {
              "outlinewidth": 0,
              "ticks": ""
             }
            },
            "type": "scatterpolar"
           }
          ],
          "scatterpolargl": [
           {
            "marker": {
             "colorbar": {
              "outlinewidth": 0,
              "ticks": ""
             }
            },
            "type": "scatterpolargl"
           }
          ],
          "scatterternary": [
           {
            "marker": {
             "colorbar": {
              "outlinewidth": 0,
              "ticks": ""
             }
            },
            "type": "scatterternary"
           }
          ],
          "surface": [
           {
            "colorbar": {
             "outlinewidth": 0,
             "ticks": ""
            },
            "colorscale": [
             [
              0,
              "#0d0887"
             ],
             [
              0.1111111111111111,
              "#46039f"
             ],
             [
              0.2222222222222222,
              "#7201a8"
             ],
             [
              0.3333333333333333,
              "#9c179e"
             ],
             [
              0.4444444444444444,
              "#bd3786"
             ],
             [
              0.5555555555555556,
              "#d8576b"
             ],
             [
              0.6666666666666666,
              "#ed7953"
             ],
             [
              0.7777777777777778,
              "#fb9f3a"
             ],
             [
              0.8888888888888888,
              "#fdca26"
             ],
             [
              1,
              "#f0f921"
             ]
            ],
            "type": "surface"
           }
          ],
          "table": [
           {
            "cells": {
             "fill": {
              "color": "#EBF0F8"
             },
             "line": {
              "color": "white"
             }
            },
            "header": {
             "fill": {
              "color": "#C8D4E3"
             },
             "line": {
              "color": "white"
             }
            },
            "type": "table"
           }
          ]
         },
         "layout": {
          "annotationdefaults": {
           "arrowcolor": "#2a3f5f",
           "arrowhead": 0,
           "arrowwidth": 1
          },
          "autotypenumbers": "strict",
          "coloraxis": {
           "colorbar": {
            "outlinewidth": 0,
            "ticks": ""
           }
          },
          "colorscale": {
           "diverging": [
            [
             0,
             "#8e0152"
            ],
            [
             0.1,
             "#c51b7d"
            ],
            [
             0.2,
             "#de77ae"
            ],
            [
             0.3,
             "#f1b6da"
            ],
            [
             0.4,
             "#fde0ef"
            ],
            [
             0.5,
             "#f7f7f7"
            ],
            [
             0.6,
             "#e6f5d0"
            ],
            [
             0.7,
             "#b8e186"
            ],
            [
             0.8,
             "#7fbc41"
            ],
            [
             0.9,
             "#4d9221"
            ],
            [
             1,
             "#276419"
            ]
           ],
           "sequential": [
            [
             0,
             "#0d0887"
            ],
            [
             0.1111111111111111,
             "#46039f"
            ],
            [
             0.2222222222222222,
             "#7201a8"
            ],
            [
             0.3333333333333333,
             "#9c179e"
            ],
            [
             0.4444444444444444,
             "#bd3786"
            ],
            [
             0.5555555555555556,
             "#d8576b"
            ],
            [
             0.6666666666666666,
             "#ed7953"
            ],
            [
             0.7777777777777778,
             "#fb9f3a"
            ],
            [
             0.8888888888888888,
             "#fdca26"
            ],
            [
             1,
             "#f0f921"
            ]
           ],
           "sequentialminus": [
            [
             0,
             "#0d0887"
            ],
            [
             0.1111111111111111,
             "#46039f"
            ],
            [
             0.2222222222222222,
             "#7201a8"
            ],
            [
             0.3333333333333333,
             "#9c179e"
            ],
            [
             0.4444444444444444,
             "#bd3786"
            ],
            [
             0.5555555555555556,
             "#d8576b"
            ],
            [
             0.6666666666666666,
             "#ed7953"
            ],
            [
             0.7777777777777778,
             "#fb9f3a"
            ],
            [
             0.8888888888888888,
             "#fdca26"
            ],
            [
             1,
             "#f0f921"
            ]
           ]
          },
          "colorway": [
           "#636efa",
           "#EF553B",
           "#00cc96",
           "#ab63fa",
           "#FFA15A",
           "#19d3f3",
           "#FF6692",
           "#B6E880",
           "#FF97FF",
           "#FECB52"
          ],
          "font": {
           "color": "#2a3f5f"
          },
          "geo": {
           "bgcolor": "white",
           "lakecolor": "white",
           "landcolor": "#E5ECF6",
           "showlakes": true,
           "showland": true,
           "subunitcolor": "white"
          },
          "hoverlabel": {
           "align": "left"
          },
          "hovermode": "closest",
          "mapbox": {
           "style": "light"
          },
          "paper_bgcolor": "white",
          "plot_bgcolor": "#E5ECF6",
          "polar": {
           "angularaxis": {
            "gridcolor": "white",
            "linecolor": "white",
            "ticks": ""
           },
           "bgcolor": "#E5ECF6",
           "radialaxis": {
            "gridcolor": "white",
            "linecolor": "white",
            "ticks": ""
           }
          },
          "scene": {
           "xaxis": {
            "backgroundcolor": "#E5ECF6",
            "gridcolor": "white",
            "gridwidth": 2,
            "linecolor": "white",
            "showbackground": true,
            "ticks": "",
            "zerolinecolor": "white"
           },
           "yaxis": {
            "backgroundcolor": "#E5ECF6",
            "gridcolor": "white",
            "gridwidth": 2,
            "linecolor": "white",
            "showbackground": true,
            "ticks": "",
            "zerolinecolor": "white"
           },
           "zaxis": {
            "backgroundcolor": "#E5ECF6",
            "gridcolor": "white",
            "gridwidth": 2,
            "linecolor": "white",
            "showbackground": true,
            "ticks": "",
            "zerolinecolor": "white"
           }
          },
          "shapedefaults": {
           "line": {
            "color": "#2a3f5f"
           }
          },
          "ternary": {
           "aaxis": {
            "gridcolor": "white",
            "linecolor": "white",
            "ticks": ""
           },
           "baxis": {
            "gridcolor": "white",
            "linecolor": "white",
            "ticks": ""
           },
           "bgcolor": "#E5ECF6",
           "caxis": {
            "gridcolor": "white",
            "linecolor": "white",
            "ticks": ""
           }
          },
          "title": {
           "x": 0.05
          },
          "xaxis": {
           "automargin": true,
           "gridcolor": "white",
           "linecolor": "white",
           "ticks": "",
           "title": {
            "standoff": 15
           },
           "zerolinecolor": "white",
           "zerolinewidth": 2
          },
          "yaxis": {
           "automargin": true,
           "gridcolor": "white",
           "linecolor": "white",
           "ticks": "",
           "title": {
            "standoff": 15
           },
           "zerolinecolor": "white",
           "zerolinewidth": 2
          }
         }
        }
       }
      },
      "text/html": [
       "<div>                            <div id=\"033e156c-d214-4b84-b534-3c92510cd63e\" class=\"plotly-graph-div\" style=\"height:525px; width:100%;\"></div>            <script type=\"text/javascript\">                require([\"plotly\"], function(Plotly) {                    window.PLOTLYENV=window.PLOTLYENV || {};                                    if (document.getElementById(\"033e156c-d214-4b84-b534-3c92510cd63e\")) {                    Plotly.newPlot(                        \"033e156c-d214-4b84-b534-3c92510cd63e\",                        [{\"name\":\"Open\",\"x\":[\"ACLBSL\",\"ADBL\",\"ADLB\",\"AHL\",\"AHPC\",\"AIL\",\"AKJCL\",\"AKPL\",\"ALBSL\",\"ALICL\",\"ANLB\",\"API\",\"AVYAN\",\"BARUN\",\"BBC\",\"BFC\",\"BHDC\",\"BHL\",\"BHPL\",\"BNHC\",\"BNT\",\"BOKD86\",\"BPCL\",\"BPW\",\"CBBL\",\"CBLD88\",\"CCBD88\",\"CFCL\",\"CGH\",\"CHCL\",\"CHDC\",\"CHL\",\"CIT\",\"CLBSL\",\"CMF1\",\"CMF2\",\"CORBL\",\"CZBIL\",\"DDBL\",\"DHPL\",\"DLBS\",\"DORDI\",\"EBL\",\"EBLD86\",\"EDBL\",\"EHPL\",\"ENL\",\"FMDBL\",\"FOWAD\",\"GBBD85\",\"GBBL\",\"GBD80/81\",\"GBIME\",\"GBIMEP\",\"GBLBS\",\"GFCL\",\"GHL\",\"GIBF1\",\"GILB\",\"GLBSL\",\"GLH\",\"GMFBS\",\"GMFIL\",\"GRDBL\",\"GUFL\",\"GVL\",\"HBL\",\"HDHPC\",\"HDL\",\"HEI\",\"HHL\",\"HIDCL\",\"HIDCLP\",\"HPPL\",\"HURJA\",\"ICFC\",\"ILBS\",\"JALPA\",\"JBBL\",\"JBLB\",\"JFL\",\"JOSHI\",\"JSLBB\",\"KBL\",\"KBLPO\",\"KDBY\",\"KDL\",\"KEF\",\"KKHC\",\"KLBS\",\"KLBSL\",\"KMCDB\",\"KPCL\",\"KRBL\",\"KSBBL\",\"LBBL\",\"LBL\",\"LBLD88\",\"LEC\",\"LICN\"],\"y\":[540.0,227.0,1230.0,327.4,266.0,400.0,196.5,356.0,670.0,521.0],\"type\":\"bar\"},{\"name\":\"Low\",\"x\":[\"ACLBSL\",\"ADBL\",\"ADLB\",\"AHL\",\"AHPC\",\"AIL\",\"AKJCL\",\"AKPL\",\"ALBSL\",\"ALICL\",\"ANLB\",\"API\",\"AVYAN\",\"BARUN\",\"BBC\",\"BFC\",\"BHDC\",\"BHL\",\"BHPL\",\"BNHC\",\"BNT\",\"BOKD86\",\"BPCL\",\"BPW\",\"CBBL\",\"CBLD88\",\"CCBD88\",\"CFCL\",\"CGH\",\"CHCL\",\"CHDC\",\"CHL\",\"CIT\",\"CLBSL\",\"CMF1\",\"CMF2\",\"CORBL\",\"CZBIL\",\"DDBL\",\"DHPL\",\"DLBS\",\"DORDI\",\"EBL\",\"EBLD86\",\"EDBL\",\"EHPL\",\"ENL\",\"FMDBL\",\"FOWAD\",\"GBBD85\",\"GBBL\",\"GBD80/81\",\"GBIME\",\"GBIMEP\",\"GBLBS\",\"GFCL\",\"GHL\",\"GIBF1\",\"GILB\",\"GLBSL\",\"GLH\",\"GMFBS\",\"GMFIL\",\"GRDBL\",\"GUFL\",\"GVL\",\"HBL\",\"HDHPC\",\"HDL\",\"HEI\",\"HHL\",\"HIDCL\",\"HIDCLP\",\"HPPL\",\"HURJA\",\"ICFC\",\"ILBS\",\"JALPA\",\"JBBL\",\"JBLB\",\"JFL\",\"JOSHI\",\"JSLBB\",\"KBL\",\"KBLPO\",\"KDBY\",\"KDL\",\"KEF\",\"KKHC\",\"KLBS\",\"KLBSL\",\"KMCDB\",\"KPCL\",\"KRBL\",\"KSBBL\",\"LBBL\",\"LBL\",\"LBLD88\",\"LEC\",\"LICN\"],\"y\":[530.0,225.0,1186.0,323.0,265.0,397.0,193.0,344.2,657.0,517.5],\"type\":\"bar\"},{\"name\":\"High\",\"x\":[\"ACLBSL\",\"ADBL\",\"ADLB\",\"AHL\",\"AHPC\",\"AIL\",\"AKJCL\",\"AKPL\",\"ALBSL\",\"ALICL\",\"ANLB\",\"API\",\"AVYAN\",\"BARUN\",\"BBC\",\"BFC\",\"BHDC\",\"BHL\",\"BHPL\",\"BNHC\",\"BNT\",\"BOKD86\",\"BPCL\",\"BPW\",\"CBBL\",\"CBLD88\",\"CCBD88\",\"CFCL\",\"CGH\",\"CHCL\",\"CHDC\",\"CHL\",\"CIT\",\"CLBSL\",\"CMF1\",\"CMF2\",\"CORBL\",\"CZBIL\",\"DDBL\",\"DHPL\",\"DLBS\",\"DORDI\",\"EBL\",\"EBLD86\",\"EDBL\",\"EHPL\",\"ENL\",\"FMDBL\",\"FOWAD\",\"GBBD85\",\"GBBL\",\"GBD80/81\",\"GBIME\",\"GBIMEP\",\"GBLBS\",\"GFCL\",\"GHL\",\"GIBF1\",\"GILB\",\"GLBSL\",\"GLH\",\"GMFBS\",\"GMFIL\",\"GRDBL\",\"GUFL\",\"GVL\",\"HBL\",\"HDHPC\",\"HDL\",\"HEI\",\"HHL\",\"HIDCL\",\"HIDCLP\",\"HPPL\",\"HURJA\",\"ICFC\",\"ILBS\",\"JALPA\",\"JBBL\",\"JBLB\",\"JFL\",\"JOSHI\",\"JSLBB\",\"KBL\",\"KBLPO\",\"KDBY\",\"KDL\",\"KEF\",\"KKHC\",\"KLBS\",\"KLBSL\",\"KMCDB\",\"KPCL\",\"KRBL\",\"KSBBL\",\"LBBL\",\"LBL\",\"LBLD88\",\"LEC\",\"LICN\"],\"y\":[542.0,230.0,1230.0,337.0,280.0,405.0,202.0,356.0,670.0,528.0],\"type\":\"bar\"}],                        {\"template\":{\"data\":{\"histogram2dcontour\":[{\"type\":\"histogram2dcontour\",\"colorbar\":{\"outlinewidth\":0,\"ticks\":\"\"},\"colorscale\":[[0.0,\"#0d0887\"],[0.1111111111111111,\"#46039f\"],[0.2222222222222222,\"#7201a8\"],[0.3333333333333333,\"#9c179e\"],[0.4444444444444444,\"#bd3786\"],[0.5555555555555556,\"#d8576b\"],[0.6666666666666666,\"#ed7953\"],[0.7777777777777778,\"#fb9f3a\"],[0.8888888888888888,\"#fdca26\"],[1.0,\"#f0f921\"]]}],\"choropleth\":[{\"type\":\"choropleth\",\"colorbar\":{\"outlinewidth\":0,\"ticks\":\"\"}}],\"histogram2d\":[{\"type\":\"histogram2d\",\"colorbar\":{\"outlinewidth\":0,\"ticks\":\"\"},\"colorscale\":[[0.0,\"#0d0887\"],[0.1111111111111111,\"#46039f\"],[0.2222222222222222,\"#7201a8\"],[0.3333333333333333,\"#9c179e\"],[0.4444444444444444,\"#bd3786\"],[0.5555555555555556,\"#d8576b\"],[0.6666666666666666,\"#ed7953\"],[0.7777777777777778,\"#fb9f3a\"],[0.8888888888888888,\"#fdca26\"],[1.0,\"#f0f921\"]]}],\"heatmap\":[{\"type\":\"heatmap\",\"colorbar\":{\"outlinewidth\":0,\"ticks\":\"\"},\"colorscale\":[[0.0,\"#0d0887\"],[0.1111111111111111,\"#46039f\"],[0.2222222222222222,\"#7201a8\"],[0.3333333333333333,\"#9c179e\"],[0.4444444444444444,\"#bd3786\"],[0.5555555555555556,\"#d8576b\"],[0.6666666666666666,\"#ed7953\"],[0.7777777777777778,\"#fb9f3a\"],[0.8888888888888888,\"#fdca26\"],[1.0,\"#f0f921\"]]}],\"heatmapgl\":[{\"type\":\"heatmapgl\",\"colorbar\":{\"outlinewidth\":0,\"ticks\":\"\"},\"colorscale\":[[0.0,\"#0d0887\"],[0.1111111111111111,\"#46039f\"],[0.2222222222222222,\"#7201a8\"],[0.3333333333333333,\"#9c179e\"],[0.4444444444444444,\"#bd3786\"],[0.5555555555555556,\"#d8576b\"],[0.6666666666666666,\"#ed7953\"],[0.7777777777777778,\"#fb9f3a\"],[0.8888888888888888,\"#fdca26\"],[1.0,\"#f0f921\"]]}],\"contourcarpet\":[{\"type\":\"contourcarpet\",\"colorbar\":{\"outlinewidth\":0,\"ticks\":\"\"}}],\"contour\":[{\"type\":\"contour\",\"colorbar\":{\"outlinewidth\":0,\"ticks\":\"\"},\"colorscale\":[[0.0,\"#0d0887\"],[0.1111111111111111,\"#46039f\"],[0.2222222222222222,\"#7201a8\"],[0.3333333333333333,\"#9c179e\"],[0.4444444444444444,\"#bd3786\"],[0.5555555555555556,\"#d8576b\"],[0.6666666666666666,\"#ed7953\"],[0.7777777777777778,\"#fb9f3a\"],[0.8888888888888888,\"#fdca26\"],[1.0,\"#f0f921\"]]}],\"surface\":[{\"type\":\"surface\",\"colorbar\":{\"outlinewidth\":0,\"ticks\":\"\"},\"colorscale\":[[0.0,\"#0d0887\"],[0.1111111111111111,\"#46039f\"],[0.2222222222222222,\"#7201a8\"],[0.3333333333333333,\"#9c179e\"],[0.4444444444444444,\"#bd3786\"],[0.5555555555555556,\"#d8576b\"],[0.6666666666666666,\"#ed7953\"],[0.7777777777777778,\"#fb9f3a\"],[0.8888888888888888,\"#fdca26\"],[1.0,\"#f0f921\"]]}],\"mesh3d\":[{\"type\":\"mesh3d\",\"colorbar\":{\"outlinewidth\":0,\"ticks\":\"\"}}],\"scatter\":[{\"fillpattern\":{\"fillmode\":\"overlay\",\"size\":10,\"solidity\":0.2},\"type\":\"scatter\"}],\"parcoords\":[{\"type\":\"parcoords\",\"line\":{\"colorbar\":{\"outlinewidth\":0,\"ticks\":\"\"}}}],\"scatterpolargl\":[{\"type\":\"scatterpolargl\",\"marker\":{\"colorbar\":{\"outlinewidth\":0,\"ticks\":\"\"}}}],\"bar\":[{\"error_x\":{\"color\":\"#2a3f5f\"},\"error_y\":{\"color\":\"#2a3f5f\"},\"marker\":{\"line\":{\"color\":\"#E5ECF6\",\"width\":0.5},\"pattern\":{\"fillmode\":\"overlay\",\"size\":10,\"solidity\":0.2}},\"type\":\"bar\"}],\"scattergeo\":[{\"type\":\"scattergeo\",\"marker\":{\"colorbar\":{\"outlinewidth\":0,\"ticks\":\"\"}}}],\"scatterpolar\":[{\"type\":\"scatterpolar\",\"marker\":{\"colorbar\":{\"outlinewidth\":0,\"ticks\":\"\"}}}],\"histogram\":[{\"marker\":{\"pattern\":{\"fillmode\":\"overlay\",\"size\":10,\"solidity\":0.2}},\"type\":\"histogram\"}],\"scattergl\":[{\"type\":\"scattergl\",\"marker\":{\"colorbar\":{\"outlinewidth\":0,\"ticks\":\"\"}}}],\"scatter3d\":[{\"type\":\"scatter3d\",\"line\":{\"colorbar\":{\"outlinewidth\":0,\"ticks\":\"\"}},\"marker\":{\"colorbar\":{\"outlinewidth\":0,\"ticks\":\"\"}}}],\"scattermapbox\":[{\"type\":\"scattermapbox\",\"marker\":{\"colorbar\":{\"outlinewidth\":0,\"ticks\":\"\"}}}],\"scatterternary\":[{\"type\":\"scatterternary\",\"marker\":{\"colorbar\":{\"outlinewidth\":0,\"ticks\":\"\"}}}],\"scattercarpet\":[{\"type\":\"scattercarpet\",\"marker\":{\"colorbar\":{\"outlinewidth\":0,\"ticks\":\"\"}}}],\"carpet\":[{\"aaxis\":{\"endlinecolor\":\"#2a3f5f\",\"gridcolor\":\"white\",\"linecolor\":\"white\",\"minorgridcolor\":\"white\",\"startlinecolor\":\"#2a3f5f\"},\"baxis\":{\"endlinecolor\":\"#2a3f5f\",\"gridcolor\":\"white\",\"linecolor\":\"white\",\"minorgridcolor\":\"white\",\"startlinecolor\":\"#2a3f5f\"},\"type\":\"carpet\"}],\"table\":[{\"cells\":{\"fill\":{\"color\":\"#EBF0F8\"},\"line\":{\"color\":\"white\"}},\"header\":{\"fill\":{\"color\":\"#C8D4E3\"},\"line\":{\"color\":\"white\"}},\"type\":\"table\"}],\"barpolar\":[{\"marker\":{\"line\":{\"color\":\"#E5ECF6\",\"width\":0.5},\"pattern\":{\"fillmode\":\"overlay\",\"size\":10,\"solidity\":0.2}},\"type\":\"barpolar\"}],\"pie\":[{\"automargin\":true,\"type\":\"pie\"}]},\"layout\":{\"autotypenumbers\":\"strict\",\"colorway\":[\"#636efa\",\"#EF553B\",\"#00cc96\",\"#ab63fa\",\"#FFA15A\",\"#19d3f3\",\"#FF6692\",\"#B6E880\",\"#FF97FF\",\"#FECB52\"],\"font\":{\"color\":\"#2a3f5f\"},\"hovermode\":\"closest\",\"hoverlabel\":{\"align\":\"left\"},\"paper_bgcolor\":\"white\",\"plot_bgcolor\":\"#E5ECF6\",\"polar\":{\"bgcolor\":\"#E5ECF6\",\"angularaxis\":{\"gridcolor\":\"white\",\"linecolor\":\"white\",\"ticks\":\"\"},\"radialaxis\":{\"gridcolor\":\"white\",\"linecolor\":\"white\",\"ticks\":\"\"}},\"ternary\":{\"bgcolor\":\"#E5ECF6\",\"aaxis\":{\"gridcolor\":\"white\",\"linecolor\":\"white\",\"ticks\":\"\"},\"baxis\":{\"gridcolor\":\"white\",\"linecolor\":\"white\",\"ticks\":\"\"},\"caxis\":{\"gridcolor\":\"white\",\"linecolor\":\"white\",\"ticks\":\"\"}},\"coloraxis\":{\"colorbar\":{\"outlinewidth\":0,\"ticks\":\"\"}},\"colorscale\":{\"sequential\":[[0.0,\"#0d0887\"],[0.1111111111111111,\"#46039f\"],[0.2222222222222222,\"#7201a8\"],[0.3333333333333333,\"#9c179e\"],[0.4444444444444444,\"#bd3786\"],[0.5555555555555556,\"#d8576b\"],[0.6666666666666666,\"#ed7953\"],[0.7777777777777778,\"#fb9f3a\"],[0.8888888888888888,\"#fdca26\"],[1.0,\"#f0f921\"]],\"sequentialminus\":[[0.0,\"#0d0887\"],[0.1111111111111111,\"#46039f\"],[0.2222222222222222,\"#7201a8\"],[0.3333333333333333,\"#9c179e\"],[0.4444444444444444,\"#bd3786\"],[0.5555555555555556,\"#d8576b\"],[0.6666666666666666,\"#ed7953\"],[0.7777777777777778,\"#fb9f3a\"],[0.8888888888888888,\"#fdca26\"],[1.0,\"#f0f921\"]],\"diverging\":[[0,\"#8e0152\"],[0.1,\"#c51b7d\"],[0.2,\"#de77ae\"],[0.3,\"#f1b6da\"],[0.4,\"#fde0ef\"],[0.5,\"#f7f7f7\"],[0.6,\"#e6f5d0\"],[0.7,\"#b8e186\"],[0.8,\"#7fbc41\"],[0.9,\"#4d9221\"],[1,\"#276419\"]]},\"xaxis\":{\"gridcolor\":\"white\",\"linecolor\":\"white\",\"ticks\":\"\",\"title\":{\"standoff\":15},\"zerolinecolor\":\"white\",\"automargin\":true,\"zerolinewidth\":2},\"yaxis\":{\"gridcolor\":\"white\",\"linecolor\":\"white\",\"ticks\":\"\",\"title\":{\"standoff\":15},\"zerolinecolor\":\"white\",\"automargin\":true,\"zerolinewidth\":2},\"scene\":{\"xaxis\":{\"backgroundcolor\":\"#E5ECF6\",\"gridcolor\":\"white\",\"linecolor\":\"white\",\"showbackground\":true,\"ticks\":\"\",\"zerolinecolor\":\"white\",\"gridwidth\":2},\"yaxis\":{\"backgroundcolor\":\"#E5ECF6\",\"gridcolor\":\"white\",\"linecolor\":\"white\",\"showbackground\":true,\"ticks\":\"\",\"zerolinecolor\":\"white\",\"gridwidth\":2},\"zaxis\":{\"backgroundcolor\":\"#E5ECF6\",\"gridcolor\":\"white\",\"linecolor\":\"white\",\"showbackground\":true,\"ticks\":\"\",\"zerolinecolor\":\"white\",\"gridwidth\":2}},\"shapedefaults\":{\"line\":{\"color\":\"#2a3f5f\"}},\"annotationdefaults\":{\"arrowcolor\":\"#2a3f5f\",\"arrowhead\":0,\"arrowwidth\":1},\"geo\":{\"bgcolor\":\"white\",\"landcolor\":\"#E5ECF6\",\"subunitcolor\":\"white\",\"showland\":true,\"showlakes\":true,\"lakecolor\":\"white\"},\"title\":{\"x\":0.05},\"mapbox\":{\"style\":\"light\"}}},\"barmode\":\"group\"},                        {\"responsive\": true}                    ).then(function(){\n",
       "                            \n",
       "var gd = document.getElementById('033e156c-d214-4b84-b534-3c92510cd63e');\n",
       "var x = new MutationObserver(function (mutations, observer) {{\n",
       "        var display = window.getComputedStyle(gd).display;\n",
       "        if (!display || display === 'none') {{\n",
       "            console.log([gd, 'removed!']);\n",
       "            Plotly.purge(gd);\n",
       "            observer.disconnect();\n",
       "        }}\n",
       "}});\n",
       "\n",
       "// Listen for the removal of the full notebook cells\n",
       "var notebookContainer = gd.closest('#notebook-container');\n",
       "if (notebookContainer) {{\n",
       "    x.observe(notebookContainer, {childList: true});\n",
       "}}\n",
       "\n",
       "// Listen for the clearing of the current output cell\n",
       "var outputEl = gd.closest('.output');\n",
       "if (outputEl) {{\n",
       "    x.observe(outputEl, {childList: true});\n",
       "}}\n",
       "\n",
       "                        })                };                });            </script>        </div>"
      ]
     },
     "metadata": {},
     "output_type": "display_data"
    }
   ],
   "source": [
    "import plotly.graph_objects as go\n",
    "\n",
    "fig = go.Figure(data=[\n",
    "    go.Bar(name='Open', x=company, y=open_price),\n",
    "    go.Bar(name='Low', x=company, y=low_price),\n",
    "    go.Bar(name='High', x=company, y=high_price)\n",
    "    \n",
    "])\n",
    "# Change the bar mode\n",
    "fig.update_layout(barmode='group')\n",
    "fig.show()"
   ]
  }
 ],
 "metadata": {
  "kernelspec": {
   "display_name": "Python 3 (ipykernel)",
   "language": "python",
   "name": "python3"
  },
  "language_info": {
   "codemirror_mode": {
    "name": "ipython",
    "version": 3
   },
   "file_extension": ".py",
   "mimetype": "text/x-python",
   "name": "python",
   "nbconvert_exporter": "python",
   "pygments_lexer": "ipython3",
   "version": "3.10.9"
  }
 },
 "nbformat": 4,
 "nbformat_minor": 5
}
